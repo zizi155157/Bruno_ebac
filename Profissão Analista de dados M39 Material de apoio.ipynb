{
  "nbformat": 4,
  "nbformat_minor": 0,
  "metadata": {
    "colab": {
      "name": "modulo_40_aula.ipynb",
      "provenance": [],
      "collapsed_sections": [],
      "toc_visible": true
    },
    "kernelspec": {
      "name": "python3",
      "display_name": "Python 3"
    }
  },
  "cells": [
    {
      "cell_type": "markdown",
      "metadata": {
        "id": "KJqp9AANOCtf"
      },
      "source": [
        "<img src=\"https://raw.githubusercontent.com/andre-marcos-perez/ebac-course-utils/main/media/logo/newebac_logo_black_half.png\" alt=\"ebac-logo\">\n",
        "\n",
        "---\n",
        "\n",
        "# **Módulo** | Computação em Nuvem III\n",
        "Caderno de **Aula**<br> \n",
        "Professor [André Perez](https://www.linkedin.com/in/andremarcosperez/)\n",
        "\n",
        "---"
      ]
    },
    {
      "cell_type": "markdown",
      "metadata": {
        "id": "d9jDtUbDOE1-"
      },
      "source": [
        "# **Tópicos**\n",
        "\n",
        "<ol type=\"1\">\n",
        "  <li>AWS EC2;</li>\n",
        "  <li>AWS SageMaker;</li>\n",
        "  <li>AWS Acesso Externo.</li>\n",
        "</ol>"
      ]
    },
    {
      "cell_type": "markdown",
      "metadata": {
        "id": "SmoHgt-lwkpD"
      },
      "source": [
        "---"
      ]
    },
    {
      "cell_type": "markdown",
      "metadata": {
        "id": "GABI6OW8OfQ2"
      },
      "source": [
        "# **Aulas**"
      ]
    },
    {
      "cell_type": "markdown",
      "source": [
        "## 1\\. AWS EC2"
      ],
      "metadata": {
        "id": "-Rig-cljwJdi"
      }
    },
    {
      "cell_type": "markdown",
      "metadata": {
        "id": "JUonSt7kxZyj"
      },
      "source": [
        "O AWS [EC2](https://aws.amazon.com/pt/ec2/) é um serviço de computação de máquinas virtuais sem servidor. Permite a criação de máquinas virtuais pré-configuradas para diversos casos de uso: processamento, armazenamento, etc. É o serviço mais antigo da AWS."
      ]
    },
    {
      "cell_type": "markdown",
      "metadata": {
        "id": "9YhdREnYxZyj"
      },
      "source": [
        "### **1.1. Funcionamento** "
      ]
    },
    {
      "cell_type": "markdown",
      "metadata": {
        "id": "VHNT6j-IxZyk"
      },
      "source": [
        " 1. Uma instância é uma máquina virtual criada;\n",
        " 1. Uma instância funciona como uma máquina comum: pode ser ligada/desligada, acessada, excluida, etc.;\n",
        " 1. Para criar uma instância, deve-se escolher o sistema operacional, tipo, rede privada, etc."
      ]
    },
    {
      "cell_type": "markdown",
      "metadata": {
        "id": "PnJI1bszxZyk"
      },
      "source": [
        "### **1.2. Preço** "
      ]
    },
    {
      "cell_type": "markdown",
      "metadata": {
        "id": "8OGjIWy9xZyk"
      },
      "source": [
        "O AWS [EC2](https://aws.amazon.com/pt/ec2/) cobra pelo tipo e pelo tempo ativo da máquina virtual. Com relação ao tempo, existem diversas formas de cobrança, a mais comum é a **sobre demanda**, na qual é cobrado pela hora em que a máquina virtual está ativa. Com relação a instância, quando mais **recursos** a máquina virtual possuir (CPU, RAM, ROM, etc.), mais caro a sua hora será. Exemplo:\n",
        "\n"
      ]
    },
    {
      "cell_type": "markdown",
      "source": [
        "| Instância | Uso     | CPU (GB) | RAM | Rede (Gbits) | Preço (USD/Hora) |\n",
        "| --------- | ------- | -------- | --- | ------------ | ---------------- |\n",
        "| t3.nano   | Geral   | 2        | 0.5 | 5            | 0.0084           |\n",
        "| t3.large  | Geral   | 2        | 8   | 5            | 0.1344           |\n",
        "| r5.large  | Memória | 2        | 16  | 10           | 0.2010           |"
      ],
      "metadata": {
        "id": "4SPFdhWpuqhs"
      }
    },
    {
      "cell_type": "markdown",
      "source": [
        "Você sempre deve consultar o preço na página *web* do serviço ([link](https://aws.amazon.com/pt/ec2/pricing/))."
      ],
      "metadata": {
        "id": "SS2fNNnautVY"
      }
    },
    {
      "cell_type": "markdown",
      "source": [
        "### **1.3. Atividade** "
      ],
      "metadata": {
        "id": "V3boVORDZh78"
      }
    },
    {
      "cell_type": "markdown",
      "source": [
        "Criar uma instância de uma máquina virtual AWS [EC2](https://aws.amazon.com/pt/ec2/) exige o conhecimento básico de redes de computador e foge do escopo desse curso. Vamos utilizar a AWS [EC2](https://aws.amazon.com/pt/ec2/) no AWS [SageMaker](https://aws.amazon.com/pt/sagemaker/)."
      ],
      "metadata": {
        "id": "e-9a8ZSyGQ7V"
      }
    },
    {
      "cell_type": "markdown",
      "metadata": {
        "id": "EvJTE2FpaGeU"
      },
      "source": [
        "## 2\\. AWS SageMaker"
      ]
    },
    {
      "cell_type": "markdown",
      "metadata": {
        "id": "ISYXZbomlb1x"
      },
      "source": [
        "O AWS [SageMaker](https://aws.amazon.com/pt/sagemaker/) é o nome de um conjunto de serviços voltados para análise/ciência de dados e aprendizado de máquina. Dentre os serviços, está o de *notebooks*, a versão da AWS do Google Colab. O serviço de *notebooks* é inspirado no famoso projeto *open source* [Jupyter](https://jupyter.org) (combinação do nome das linguagens de programação Julia, Python e R).\n",
        "\n"
      ]
    },
    {
      "cell_type": "markdown",
      "source": [
        "> **Nota**: Diferente do Google Colab, um *notebook* do AWS [SageMaker](https://aws.amazon.com/pt/sagemaker/) é **permanente**;"
      ],
      "metadata": {
        "id": "lGuMKfw9B6By"
      }
    },
    {
      "cell_type": "markdown",
      "metadata": {
        "id": "pnxYnr6flb1y"
      },
      "source": [
        "### **2.1. Funcionamento** "
      ]
    },
    {
      "cell_type": "markdown",
      "metadata": {
        "id": "NY8c3fEWlb1y"
      },
      "source": [
        "1. Para criar um *notebook*, deve-se escolher uma instância de máquina virtual AWS [EC2](https://aws.amazon.com/pt/ec2/) e uma *role* do AWS [IAM](https://aws.amazon.com/pt/iam/); \n",
        "2. Assim como AWS [EC2](https://aws.amazon.com/pt/ec2/), *notebooks* podem ser iniciados/desligados, acessados, excluídos, etc."
      ]
    },
    {
      "cell_type": "markdown",
      "source": [
        "> **Nota**: Lembre-se sempre de **desligar** um *notebook* para não ser cobrado;"
      ],
      "metadata": {
        "id": "gwkkhy9zBisu"
      }
    },
    {
      "cell_type": "markdown",
      "metadata": {
        "id": "h_7ULt6Wlb1z"
      },
      "source": [
        "### **2.2. Preço** "
      ]
    },
    {
      "cell_type": "markdown",
      "metadata": {
        "id": "J54rLu4Mlb10"
      },
      "source": [
        "O AWS [SageMaker](https://aws.amazon.com/pt/sagemaker/) cobra um preço diferente por serviço. O preço do serviço de *notebooks* é o preço da hora da instância da máquina virtual do AWS [EC2](https://aws.amazon.com/pt/ec2/) utilizada (otimizada para aprendizado de máquina). Você sempre deve consultar o preço na página *web* do serviço ([link](https://aws.amazon.com/pt/sagemaker/pricing/?nc=sn&loc=3))."
      ]
    },
    {
      "cell_type": "markdown",
      "metadata": {
        "id": "oA6uhSthxAfi"
      },
      "source": [
        "### **2.3. Atividade** "
      ]
    },
    {
      "cell_type": "markdown",
      "metadata": {
        "id": "vBIT5n-3xAfj"
      },
      "source": [
        " - Criar um *bucket* no AWS [S3](https://aws.amazon.com/pt/s3/);\n",
        " - Fazer o *upload* de um objeto no *bucket* do AWS [S3](https://aws.amazon.com/pt/s3/);\n",
        " - Criar um *notebook* no AWS [SageMaker](https://aws.amazon.com/pt/sagemaker/);\n",
        " - Carregar o objeto do *bucket* do AWS [S3](https://aws.amazon.com/pt/s3/) no *notebook*;\n",
        " - Desligar a instância do AWS [EC2](https://aws.amazon.com/pt/ec2/) do *notebook*."
      ]
    },
    {
      "cell_type": "markdown",
      "source": [
        "Objeto para o *bucket*."
      ],
      "metadata": {
        "id": "P2QuQvRbEmJA"
      }
    },
    {
      "cell_type": "code",
      "source": [
        "%%writefile cotacao.csv\n",
        "date,usd,eur,gbp\n",
        "2021-01-21,5.4582,6.1896,7.3980\n",
        "2021-01-20,5.4191,6.1290,7.3673\n",
        "2021-01-19,5.4383,6.1676,7.3994\n",
        "2021-01-18,5.5666,6.3042,7.5672\n"
      ],
      "metadata": {
        "id": "_wPUVkkWDMBt"
      },
      "execution_count": null,
      "outputs": []
    },
    {
      "cell_type": "markdown",
      "source": [
        "Código de leitura."
      ],
      "metadata": {
        "id": "uL1NxjOlEtNI"
      }
    },
    {
      "cell_type": "code",
      "source": [
        "import boto3\n",
        "import pandas as pd\n",
        "\n",
        "BUCKET = '<bucket-name>'\n",
        "\n",
        "df = pd.read_csv(f's3://{BUCKET}/cotacao.csv')\n",
        "df.head()"
      ],
      "metadata": {
        "id": "jUwKmaHIDIBh"
      },
      "execution_count": null,
      "outputs": []
    },
    {
      "cell_type": "markdown",
      "metadata": {
        "id": "oVejInuPakz5"
      },
      "source": [
        "## 3\\. AWS Acesso Externo"
      ]
    },
    {
      "cell_type": "markdown",
      "metadata": {
        "id": "CZbuPphXakz7"
      },
      "source": [
        "Para interagir externamente com os serviços da AWS, basta criar um usuário de acesso programático. O usuário é identificado por uma credencial do tipo chave-valor."
      ]
    },
    {
      "cell_type": "markdown",
      "metadata": {
        "id": "SadRMFFVjAY1"
      },
      "source": [
        "### **3.1. Atividade** "
      ]
    },
    {
      "cell_type": "markdown",
      "metadata": {
        "id": "N2j-pN5VjAY3"
      },
      "source": [
        "1. No AWS [IAM](https://aws.amazon.com/pt/iam/), criar um usuário programático;\n",
        "2. Adicionar política de leitura em *buckets* do AWS [S3](https://aws.amazon.com/pt/s3/);\n",
        "3. Salvar a credencial em um arquivo CSV."
      ]
    },
    {
      "cell_type": "markdown",
      "source": [
        " > **Nota**: Tome um cuidado especial com as permissões concedidas ao usuário externo. "
      ],
      "metadata": {
        "id": "0dOpCOukQX7y"
      }
    },
    {
      "cell_type": "markdown",
      "source": [
        " - Instalar o `boto3`"
      ],
      "metadata": {
        "id": "cwb-ODfiRmIX"
      }
    },
    {
      "cell_type": "code",
      "source": [
        "!pip install boto3"
      ],
      "metadata": {
        "id": "Ui2kGQHWNHKy"
      },
      "execution_count": null,
      "outputs": []
    },
    {
      "cell_type": "markdown",
      "source": [
        "- Configurar as credenciais"
      ],
      "metadata": {
        "id": "Ic1-49FOR0AP"
      }
    },
    {
      "cell_type": "code",
      "source": [
        "from getpass import getpass\n",
        "\n",
        "aws_access_key_id = getpass()"
      ],
      "metadata": {
        "id": "IbQzqcfQLoN0"
      },
      "execution_count": null,
      "outputs": []
    },
    {
      "cell_type": "code",
      "source": [
        "from getpass import getpass\n",
        "\n",
        "aws_secret_access_key = getpass()"
      ],
      "metadata": {
        "id": "UGfBhCoEM0oa"
      },
      "execution_count": null,
      "outputs": []
    },
    {
      "cell_type": "code",
      "source": [
        "import boto3\n",
        "import pandas as pd\n",
        "\n",
        "client = boto3.client('s3', aws_access_key_id=aws_access_key_id, aws_secret_access_key=aws_secret_access_key)"
      ],
      "metadata": {
        "id": "dR0sRsllOSf7"
      },
      "execution_count": null,
      "outputs": []
    },
    {
      "cell_type": "code",
      "source": [
        "BUCKET = '<bucket-name>'\n",
        "\n",
        "client.download_file(BUCKET, 'cotacao.csv', 'cotacao_aws.csv')"
      ],
      "metadata": {
        "id": "-gnPzHvIOeAp"
      },
      "execution_count": null,
      "outputs": []
    },
    {
      "cell_type": "markdown",
      "source": [
        " - Extrair"
      ],
      "metadata": {
        "id": "HiuTY_Z7R2xH"
      }
    },
    {
      "cell_type": "code",
      "source": [
        "df = pd.read_csv('cotacao_aws.csv')\n",
        "df.head()"
      ],
      "metadata": {
        "id": "aKnEXL8-PqoM"
      },
      "execution_count": null,
      "outputs": []
    },
    {
      "cell_type": "markdown",
      "source": [
        " - Carregar"
      ],
      "metadata": {
        "id": "aL5TwGtpR6H_"
      }
    },
    {
      "cell_type": "code",
      "source": [
        "client.upload_file(Filename='cotacao_aws.csv', Bucket=BUCKET, Key='cotacao_aws.csv')"
      ],
      "metadata": {
        "id": "-84TzHelR_0j"
      },
      "execution_count": null,
      "outputs": []
    }
  ]
}