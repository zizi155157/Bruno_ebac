{
 "cells": [
  {
   "cell_type": "markdown",
   "metadata": {
    "id": "KJqp9AANOCtf"
   },
   "source": [
    "<img src=\"https://raw.githubusercontent.com/andre-marcos-perez/ebac-course-utils/main/media/logo/newebac_logo_black_half.png\" alt=\"ebac-logo\">\n",
    "\n",
    "---\n",
    "\n",
    "# **Módulo** | Análise de Dados: Fundamentos de Estatística\n",
    "Caderno de **Exercícios**<br>\n",
    "Professor [André Perez](https://www.linkedin.com/in/andremarcosperez/)\n",
    "\n",
    "---"
   ]
  },
  {
   "cell_type": "markdown",
   "metadata": {
    "id": "d9jDtUbDOE1-"
   },
   "source": [
    "# **Tópicos**\n",
    "\n",
    "<ol type=\"1\">\n",
    "  <li>Média e Variância;</li>\n",
    "  <li>Ordem e Posição;</li>\n",
    "  <li>Correlação.</li>\n",
    "</ol>"
   ]
  },
  {
   "cell_type": "markdown",
   "metadata": {
    "id": "SmoHgt-lwkpD"
   },
   "source": [
    "---"
   ]
  },
  {
   "cell_type": "markdown",
   "metadata": {
    "id": "GABI6OW8OfQ2"
   },
   "source": [
    "# **Exercícios**"
   ]
  },
  {
   "cell_type": "markdown",
   "metadata": {
    "id": "kzRDceCvkFj2"
   },
   "source": [
    "## 1\\. Tráfego de São Paulo"
   ]
  },
  {
   "cell_type": "markdown",
   "metadata": {
    "id": "WCQi-s0Hpd5V"
   },
   "source": [
    "Neste exercício, vamos continuar a analisar os dados de mobilidade urbana da cidade de São Paulo. A base de dados está neste [link](https://raw.githubusercontent.com/andre-marcos-perez/ebac-course-utils/develop/dataset/traffic.csv) e é uma copia do dado original, presente neste [link](https://archive.ics.uci.edu/ml/datasets/Behavior+of+the+urban+traffic+of+the+city+of+Sao+Paulo+in+Brazil). A base de dados contem a quantidade de acidentes ocorridos na cidade entre 14/12/09 e 18/12/09, das 07:00h ás 20:00h, agregados em intervalos de 30 minutos."
   ]
  },
  {
   "cell_type": "code",
   "execution_count": 1,
   "metadata": {
    "id": "lblH8kIXzPZZ"
   },
   "outputs": [],
   "source": [
    "!wget -q \"https://raw.githubusercontent.com/andre-marcos-perez/ebac-course-utils/develop/dataset/traffic.csv\" -O traffic.csv"
   ]
  },
  {
   "cell_type": "code",
   "execution_count": 2,
   "metadata": {
    "id": "cuuqGTo_ffKI"
   },
   "outputs": [],
   "source": [
    "import pandas as pd"
   ]
  },
  {
   "cell_type": "code",
   "execution_count": 3,
   "metadata": {
    "id": "VR3UdrrQgJ4K"
   },
   "outputs": [],
   "source": [
    "df = pd.read_csv('traffic.csv', sep=';')"
   ]
  },
  {
   "cell_type": "code",
   "execution_count": null,
   "id": "09d70f06",
   "metadata": {},
   "outputs": [],
   "source": [
    "\n",
    "import numpy as np\n",
    "\n",
    "# Criar dicionário com arrays para cada dia automaticamente\n",
    "arrays_por_dia = {}\n",
    "\n",
    "# Iterar pelas datas únicas\n",
    "for data in df['date'].unique():\n",
    "    dados_diarios = df[df['date'] == data]\n",
    "    soma_por_intervalo = dados_diarios.drop('date', axis=1).sum(axis=0).to_numpy()\n",
    "    arrays_por_dia[data] = soma_por_intervalo\n"
   ]
  },
  {
   "cell_type": "code",
   "execution_count": null,
   "id": "2f7fe2f2",
   "metadata": {},
   "outputs": [],
   "source": [
    "\n",
    "# Encontrar o dia com a maior média de acidentes por meia hora\n",
    "maior_media = -float('inf')\n",
    "dia_com_maior_media = None\n",
    "\n",
    "for dia, array in arrays_por_dia.items():\n",
    "    media = np.mean(array)\n",
    "    if media > maior_media:\n",
    "        maior_media = media\n",
    "        dia_com_maior_media = dia\n",
    "\n",
    "print(f\"O dia com a maior média de acidentes por meia hora é: {dia_com_maior_media}\")\n",
    "print(f\"Média de acidentes: {maior_media:.2f}\")\n"
   ]
  },
  {
   "cell_type": "code",
   "execution_count": null,
   "id": "90102aa9",
   "metadata": {},
   "outputs": [],
   "source": [
    "\n",
    "# Encontrar o dia com a menor variação (desvio padrão)\n",
    "menor_variacao = float('inf')\n",
    "dia_com_menor_variacao = None\n",
    "\n",
    "for dia, array in arrays_por_dia.items():\n",
    "    desvio_padrao = np.std(array)\n",
    "    if desvio_padrao < menor_variacao:\n",
    "        menor_variacao = desvio_padrao\n",
    "        dia_com_menor_variacao = dia\n",
    "\n",
    "print(f\"O dia com a menor variação de acidentes por meia hora é: {dia_com_menor_variacao}\")\n",
    "print(f\"Variação (Desvio Padrão): {menor_variacao:.2f}\")\n"
   ]
  },
  {
   "cell_type": "code",
   "execution_count": 5,
   "metadata": {
    "colab": {
     "base_uri": "https://localhost:8080/",
     "height": 101
    },
    "id": "rVUKA_RkiFeg",
    "outputId": "d1390018-17e7-49ee-8784-e3d132f75e2d"
   },
   "outputs": [
    {
     "data": {
      "application/vnd.google.colaboratory.intrinsic+json": {
       "summary": "{\n  \"name\": \"df\",\n  \"rows\": 1,\n  \"fields\": [\n    {\n      \"column\": \"hour\",\n      \"properties\": {\n        \"dtype\": \"number\",\n        \"std\": null,\n        \"min\": 14,\n        \"max\": 14,\n        \"num_unique_values\": 1,\n        \"samples\": [\n          14\n        ],\n        \"semantic_type\": \"\",\n        \"description\": \"\"\n      }\n    },\n    {\n      \"column\": \"bus_stoped\",\n      \"properties\": {\n        \"dtype\": \"number\",\n        \"std\": null,\n        \"min\": 2,\n        \"max\": 2,\n        \"num_unique_values\": 1,\n        \"samples\": [\n          2\n        ],\n        \"semantic_type\": \"\",\n        \"description\": \"\"\n      }\n    },\n    {\n      \"column\": \"broken_truck\",\n      \"properties\": {\n        \"dtype\": \"number\",\n        \"std\": null,\n        \"min\": 2,\n        \"max\": 2,\n        \"num_unique_values\": 1,\n        \"samples\": [\n          2\n        ],\n        \"semantic_type\": \"\",\n        \"description\": \"\"\n      }\n    },\n    {\n      \"column\": \"vehicle_excess\",\n      \"properties\": {\n        \"dtype\": \"number\",\n        \"std\": null,\n        \"min\": 0,\n        \"max\": 0,\n        \"num_unique_values\": 1,\n        \"samples\": [\n          0\n        ],\n        \"semantic_type\": \"\",\n        \"description\": \"\"\n      }\n    },\n    {\n      \"column\": \"accident_victim\",\n      \"properties\": {\n        \"dtype\": \"number\",\n        \"std\": null,\n        \"min\": 1,\n        \"max\": 1,\n        \"num_unique_values\": 1,\n        \"samples\": [\n          1\n        ],\n        \"semantic_type\": \"\",\n        \"description\": \"\"\n      }\n    },\n    {\n      \"column\": \"running_over\",\n      \"properties\": {\n        \"dtype\": \"number\",\n        \"std\": null,\n        \"min\": 0,\n        \"max\": 0,\n        \"num_unique_values\": 1,\n        \"samples\": [\n          0\n        ],\n        \"semantic_type\": \"\",\n        \"description\": \"\"\n      }\n    },\n    {\n      \"column\": \"fire_vehicles\",\n      \"properties\": {\n        \"dtype\": \"number\",\n        \"std\": null,\n        \"min\": 0,\n        \"max\": 0,\n        \"num_unique_values\": 1,\n        \"samples\": [\n          0\n        ],\n        \"semantic_type\": \"\",\n        \"description\": \"\"\n      }\n    },\n    {\n      \"column\": \"occurrence_freight\",\n      \"properties\": {\n        \"dtype\": \"number\",\n        \"std\": null,\n        \"min\": 0,\n        \"max\": 0,\n        \"num_unique_values\": 1,\n        \"samples\": [\n          0\n        ],\n        \"semantic_type\": \"\",\n        \"description\": \"\"\n      }\n    },\n    {\n      \"column\": \"incident__dangerous_freight\",\n      \"properties\": {\n        \"dtype\": \"number\",\n        \"std\": null,\n        \"min\": 0,\n        \"max\": 0,\n        \"num_unique_values\": 1,\n        \"samples\": [\n          0\n        ],\n        \"semantic_type\": \"\",\n        \"description\": \"\"\n      }\n    },\n    {\n      \"column\": \"lack_electricity\",\n      \"properties\": {\n        \"dtype\": \"number\",\n        \"std\": null,\n        \"min\": 0,\n        \"max\": 0,\n        \"num_unique_values\": 1,\n        \"samples\": [\n          0\n        ],\n        \"semantic_type\": \"\",\n        \"description\": \"\"\n      }\n    },\n    {\n      \"column\": \"fire\",\n      \"properties\": {\n        \"dtype\": \"number\",\n        \"std\": null,\n        \"min\": 0,\n        \"max\": 0,\n        \"num_unique_values\": 1,\n        \"samples\": [\n          0\n        ],\n        \"semantic_type\": \"\",\n        \"description\": \"\"\n      }\n    },\n    {\n      \"column\": \"flooding\",\n      \"properties\": {\n        \"dtype\": \"number\",\n        \"std\": null,\n        \"min\": 0,\n        \"max\": 0,\n        \"num_unique_values\": 1,\n        \"samples\": [\n          0\n        ],\n        \"semantic_type\": \"\",\n        \"description\": \"\"\n      }\n    },\n    {\n      \"column\": \"manifestations\",\n      \"properties\": {\n        \"dtype\": \"number\",\n        \"std\": null,\n        \"min\": 0,\n        \"max\": 0,\n        \"num_unique_values\": 1,\n        \"samples\": [\n          0\n        ],\n        \"semantic_type\": \"\",\n        \"description\": \"\"\n      }\n    },\n    {\n      \"column\": \"defect_trolleybuses\",\n      \"properties\": {\n        \"dtype\": \"number\",\n        \"std\": null,\n        \"min\": 0,\n        \"max\": 0,\n        \"num_unique_values\": 1,\n        \"samples\": [\n          0\n        ],\n        \"semantic_type\": \"\",\n        \"description\": \"\"\n      }\n    },\n    {\n      \"column\": \"tree_road\",\n      \"properties\": {\n        \"dtype\": \"number\",\n        \"std\": null,\n        \"min\": 0,\n        \"max\": 0,\n        \"num_unique_values\": 1,\n        \"samples\": [\n          0\n        ],\n        \"semantic_type\": \"\",\n        \"description\": \"\"\n      }\n    },\n    {\n      \"column\": \"semaphore_off\",\n      \"properties\": {\n        \"dtype\": \"number\",\n        \"std\": null,\n        \"min\": 0,\n        \"max\": 0,\n        \"num_unique_values\": 1,\n        \"samples\": [\n          0\n        ],\n        \"semantic_type\": \"\",\n        \"description\": \"\"\n      }\n    },\n    {\n      \"column\": \"intermittent_emaphore\",\n      \"properties\": {\n        \"dtype\": \"number\",\n        \"std\": null,\n        \"min\": 0,\n        \"max\": 0,\n        \"num_unique_values\": 1,\n        \"samples\": [\n          0\n        ],\n        \"semantic_type\": \"\",\n        \"description\": \"\"\n      }\n    },\n    {\n      \"column\": \"slowness_traffic_%\",\n      \"properties\": {\n        \"dtype\": \"string\",\n        \"num_unique_values\": 1,\n        \"samples\": [\n          \"4,9\"\n        ],\n        \"semantic_type\": \"\",\n        \"description\": \"\"\n      }\n    }\n  ]\n}",
       "type": "dataframe"
      },
      "text/html": [
       "\n",
       "  <div id=\"df-dd6e7a6c-6423-48db-a5ef-f01d6ca39412\" class=\"colab-df-container\">\n",
       "    <div>\n",
       "<style scoped>\n",
       "    .dataframe tbody tr th:only-of-type {\n",
       "        vertical-align: middle;\n",
       "    }\n",
       "\n",
       "    .dataframe tbody tr th {\n",
       "        vertical-align: top;\n",
       "    }\n",
       "\n",
       "    .dataframe thead th {\n",
       "        text-align: right;\n",
       "    }\n",
       "</style>\n",
       "<table border=\"1\" class=\"dataframe\">\n",
       "  <thead>\n",
       "    <tr style=\"text-align: right;\">\n",
       "      <th></th>\n",
       "      <th>hour</th>\n",
       "      <th>bus_stoped</th>\n",
       "      <th>broken_truck</th>\n",
       "      <th>vehicle_excess</th>\n",
       "      <th>accident_victim</th>\n",
       "      <th>running_over</th>\n",
       "      <th>fire_vehicles</th>\n",
       "      <th>occurrence_freight</th>\n",
       "      <th>incident__dangerous_freight</th>\n",
       "      <th>lack_electricity</th>\n",
       "      <th>fire</th>\n",
       "      <th>flooding</th>\n",
       "      <th>manifestations</th>\n",
       "      <th>defect_trolleybuses</th>\n",
       "      <th>tree_road</th>\n",
       "      <th>semaphore_off</th>\n",
       "      <th>intermittent_emaphore</th>\n",
       "      <th>slowness_traffic_%</th>\n",
       "    </tr>\n",
       "  </thead>\n",
       "  <tbody>\n",
       "    <tr>\n",
       "      <th>13</th>\n",
       "      <td>14</td>\n",
       "      <td>2</td>\n",
       "      <td>2</td>\n",
       "      <td>0</td>\n",
       "      <td>1</td>\n",
       "      <td>0</td>\n",
       "      <td>0</td>\n",
       "      <td>0</td>\n",
       "      <td>0</td>\n",
       "      <td>0</td>\n",
       "      <td>0</td>\n",
       "      <td>0</td>\n",
       "      <td>0</td>\n",
       "      <td>0</td>\n",
       "      <td>0</td>\n",
       "      <td>0</td>\n",
       "      <td>0</td>\n",
       "      <td>4,9</td>\n",
       "    </tr>\n",
       "  </tbody>\n",
       "</table>\n",
       "</div>\n",
       "    <div class=\"colab-df-buttons\">\n",
       "\n",
       "  <div class=\"colab-df-container\">\n",
       "    <button class=\"colab-df-convert\" onclick=\"convertToInteractive('df-dd6e7a6c-6423-48db-a5ef-f01d6ca39412')\"\n",
       "            title=\"Convert this dataframe to an interactive table.\"\n",
       "            style=\"display:none;\">\n",
       "\n",
       "  <svg xmlns=\"http://www.w3.org/2000/svg\" height=\"24px\" viewBox=\"0 -960 960 960\">\n",
       "    <path d=\"M120-120v-720h720v720H120Zm60-500h600v-160H180v160Zm220 220h160v-160H400v160Zm0 220h160v-160H400v160ZM180-400h160v-160H180v160Zm440 0h160v-160H620v160ZM180-180h160v-160H180v160Zm440 0h160v-160H620v160Z\"/>\n",
       "  </svg>\n",
       "    </button>\n",
       "\n",
       "  <style>\n",
       "    .colab-df-container {\n",
       "      display:flex;\n",
       "      gap: 12px;\n",
       "    }\n",
       "\n",
       "    .colab-df-convert {\n",
       "      background-color: #E8F0FE;\n",
       "      border: none;\n",
       "      border-radius: 50%;\n",
       "      cursor: pointer;\n",
       "      display: none;\n",
       "      fill: #1967D2;\n",
       "      height: 32px;\n",
       "      padding: 0 0 0 0;\n",
       "      width: 32px;\n",
       "    }\n",
       "\n",
       "    .colab-df-convert:hover {\n",
       "      background-color: #E2EBFA;\n",
       "      box-shadow: 0px 1px 2px rgba(60, 64, 67, 0.3), 0px 1px 3px 1px rgba(60, 64, 67, 0.15);\n",
       "      fill: #174EA6;\n",
       "    }\n",
       "\n",
       "    .colab-df-buttons div {\n",
       "      margin-bottom: 4px;\n",
       "    }\n",
       "\n",
       "    [theme=dark] .colab-df-convert {\n",
       "      background-color: #3B4455;\n",
       "      fill: #D2E3FC;\n",
       "    }\n",
       "\n",
       "    [theme=dark] .colab-df-convert:hover {\n",
       "      background-color: #434B5C;\n",
       "      box-shadow: 0px 1px 3px 1px rgba(0, 0, 0, 0.15);\n",
       "      filter: drop-shadow(0px 1px 2px rgba(0, 0, 0, 0.3));\n",
       "      fill: #FFFFFF;\n",
       "    }\n",
       "  </style>\n",
       "\n",
       "    <script>\n",
       "      const buttonEl =\n",
       "        document.querySelector('#df-dd6e7a6c-6423-48db-a5ef-f01d6ca39412 button.colab-df-convert');\n",
       "      buttonEl.style.display =\n",
       "        google.colab.kernel.accessAllowed ? 'block' : 'none';\n",
       "\n",
       "      async function convertToInteractive(key) {\n",
       "        const element = document.querySelector('#df-dd6e7a6c-6423-48db-a5ef-f01d6ca39412');\n",
       "        const dataTable =\n",
       "          await google.colab.kernel.invokeFunction('convertToInteractive',\n",
       "                                                    [key], {});\n",
       "        if (!dataTable) return;\n",
       "\n",
       "        const docLinkHtml = 'Like what you see? Visit the ' +\n",
       "          '<a target=\"_blank\" href=https://colab.research.google.com/notebooks/data_table.ipynb>data table notebook</a>'\n",
       "          + ' to learn more about interactive tables.';\n",
       "        element.innerHTML = '';\n",
       "        dataTable['output_type'] = 'display_data';\n",
       "        await google.colab.output.renderOutput(dataTable, element);\n",
       "        const docLink = document.createElement('div');\n",
       "        docLink.innerHTML = docLinkHtml;\n",
       "        element.appendChild(docLink);\n",
       "      }\n",
       "    </script>\n",
       "  </div>\n",
       "\n",
       "\n",
       "    </div>\n",
       "  </div>\n"
      ],
      "text/plain": [
       "    hour  bus_stoped  broken_truck  vehicle_excess  accident_victim  \\\n",
       "13    14           2             2               0                1   \n",
       "\n",
       "    running_over  fire_vehicles  occurrence_freight  \\\n",
       "13             0              0                   0   \n",
       "\n",
       "    incident__dangerous_freight  lack_electricity  fire  flooding  \\\n",
       "13                            0                 0     0         0   \n",
       "\n",
       "    manifestations  defect_trolleybuses  tree_road  semaphore_off  \\\n",
       "13               0                    0          0              0   \n",
       "\n",
       "    intermittent_emaphore slowness_traffic_%  \n",
       "13                      0                4,9  "
      ]
     },
     "execution_count": 5,
     "metadata": {},
     "output_type": "execute_result"
    }
   ],
   "source": [
    "df.iloc[[13]]"
   ]
  },
  {
   "cell_type": "code",
   "execution_count": 8,
   "metadata": {
    "colab": {
     "base_uri": "https://localhost:8080/"
    },
    "id": "1GKrWDedPmQi",
    "outputId": "19f29ae6-1521-4803-d930-f7ff94b394b6"
   },
   "outputs": [
    {
     "name": "stdout",
     "output_type": "stream",
     "text": [
      "A 13ª linha é:\n",
      "hour;bus_stoped;broken_truck;vehicle_excess;accident_victim;running_over;fire_vehicles;occurrence_freight;incident__dangerous_freight;lack_electricity;fire;flooding;manifestations;defect_trolleybuses;tree_road;semaphore_off;intermittent_emaphore;slowness_traffic_%    8.0\n",
      "Name: 13;0;0;0;0;0;0;0;0;0;0;0;0;0;0;0;0;4, dtype: float64\n"
     ]
    }
   ],
   "source": [
    "import pandas as pd\n",
    "\n",
    "# Baixar o arquivo CSV\n",
    "!wget -q \"https://raw.githubusercontent.com/andre-marcos-perez/ebac-course-utils/develop/dataset/traffic.csv\" -O traffic.csv\n",
    "\n",
    "# Função para extrair a linha desejada\n",
    "def extrair_linha_arquivo_csv(file_path, linha_desejada):\n",
    "    try:\n",
    "        # Ler o arquivo CSV\n",
    "        df = pd.read_csv(file_path)\n",
    "\n",
    "        # Verificar se a linha desejada está dentro do intervalo do DataFrame\n",
    "        if linha_desejada - 1 < len(df):\n",
    "            # Obter a linha desejada\n",
    "            linha = df.iloc[linha_desejada - 1]\n",
    "            return linha\n",
    "        else:\n",
    "            return \"Linha não encontrada.\"\n",
    "    except FileNotFoundError:\n",
    "        return \"Arquivo não encontrado.\"\n",
    "    except Exception as e:\n",
    "        return f\"Erro: {e}\"\n",
    "\n",
    "# Caminho para o arquivo CSV\n",
    "file_path = 'traffic.csv'\n",
    "\n",
    "# Número da linha desejada (13ª linha)\n",
    "linha_desejada = 13\n",
    "\n",
    "# Extraindo e exibindo a linha\n",
    "linha_extraida = extrair_linha_arquivo_csv(file_path, linha_desejada)\n",
    "if isinstance(linha_extraida, pd.Series):\n",
    "    print(f\"A 13ª linha é:\\n{linha_extraida}\")\n",
    "else:\n",
    "    print(linha_extraida)\n",
    "\n"
   ]
  },
  {
   "cell_type": "markdown",
   "metadata": {
    "id": "HrTLgE0tki6P"
   },
   "source": [
    "### **1.1. Agregação**"
   ]
  },
  {
   "cell_type": "markdown",
   "metadata": {
    "id": "7tIjNOs8q6aZ"
   },
   "source": [
    "Neste primeira atividade, você deve gerar um array NumPy por dia. Para cada array você deve somar todos os incidentes que aconteceram naquela meia hora. Sendo assim, cada array deve ter 27 posições, cada qual com a soma dos incidentes daquela meira hora."
   ]
  },
  {
   "cell_type": "markdown",
   "metadata": {
    "id": "fKzfMXTO280n"
   },
   "source": [
    "**Dica**: Você deve remover a primeira e a última coluna."
   ]
  },
  {
   "cell_type": "markdown",
   "metadata": {
    "id": "KEUTG1OIs0VN"
   },
   "source": [
    "**Dica**: Os arrays devem ter os seguintes valores:\n",
    "\n",
    "```python\n",
    "14: [0, 0, 0, 0, 0, 0, 0, 0, 0, 0, 0, 1, 0, 5, 2, 0, 0, 0, 0, 0, 1, 0, 0, 0, 2, 2, 3]\n",
    "15: [3, 0, 0, 0, 2, 4, 2, 1, 3, 0, 2, 0, 2, 3, 2, 2, 4, 7, 6, 3, 0, 1, 1, 5, 4, 6, 0]\n",
    "16: [1, 1, 2, 4, 4, 5, 3, 2, 4, 2, 1, 1, 3, 6, 2, 0, 2, 8, 4, 6, 4, 1, 2, 7, 15, 4, 0]\n",
    "17: [4, 1, 1, 0, 0, 0, 2, 3, 2, 7, 2, 1, 7, 3, 6, 4, 3, 2, 2, 3, 2, 5, 2, 0, 1, 4, 15]\n",
    "18: [10, 1, 1, 5, 5, 7, 3, 4, 3, 1, 2, 3, 2, 2, 6, 2, 2, 4, 2, 3, 0, 3, 3, 2, 3, 6, 0]\n",
    "```"
   ]
  },
  {
   "cell_type": "code",
   "execution_count": 11,
   "metadata": {
    "colab": {
     "base_uri": "https://localhost:8080/"
    },
    "id": "IwTTh4VKkdKN",
    "outputId": "56ad4016-6bbf-40ae-cc98-afcc9801f1b1"
   },
   "outputs": [
    {
     "name": "stdout",
     "output_type": "stream",
     "text": [
      "A coluna 'date' não foi encontrada no arquivo CSV.\n"
     ]
    }
   ],
   "source": [
    "# resposta da questão 1.1\n",
    "import pandas as pd\n",
    "import numpy as np\n",
    "\n",
    "# Baixar o arquivo CSV\n",
    "!wget -q \"https://raw.githubusercontent.com/andre-marcos-perez/ebac-course-utils/develop/dataset/traffic.csv\" -O traffic.csv\n",
    "\n",
    "def processar_dados(file_path):\n",
    "    try:\n",
    "        # Ler o arquivo CSV\n",
    "        df = pd.read_csv(file_path)\n",
    "\n",
    "        # Verificar se a coluna 'date' existe\n",
    "        if 'date' not in df.columns:\n",
    "            return \"A coluna 'date' não foi encontrada no arquivo CSV.\"\n",
    "\n",
    "        # Remover a primeira e a última coluna\n",
    "        df = df.iloc[:, 1:-1]\n",
    "\n",
    "        # Obter as datas únicas\n",
    "        datas = df['date'].unique()\n",
    "\n",
    "        # Inicializar o dicionário para armazenar os arrays por dia\n",
    "        arrays_por_dia = {}\n",
    "\n",
    "        for data in datas:\n",
    "            # Filtrar os dados para a data específica\n",
    "            dados_diarios = df[df['date'] == data]\n",
    "\n",
    "            # Somar os incidentes por meia hora\n",
    "            somas = dados_diarios.drop('date', axis=1).sum(axis=0).to_numpy()\n",
    "\n",
    "            # Garantir que o array tenha 27 posições, preenchendo com zeros se necessário\n",
    "            if len(somas) < 27:\n",
    "                somas = np.concatenate([somas, np.zeros(27 - len(somas))])\n",
    "            elif len(somas) > 27:\n",
    "                somas = somas[:27]\n",
    "\n",
    "            # Adicionar ao dicionário com a data como chave\n",
    "            arrays_por_dia[data] = somas\n",
    "\n",
    "        return arrays_por_dia\n",
    "\n",
    "    except FileNotFoundError:\n",
    "        return \"Arquivo não encontrado.\"\n",
    "    except Exception as e:\n",
    "        return f\"Erro: {e}\"\n",
    "\n",
    "# Caminho para o arquivo CSV\n",
    "file_path = 'traffic.csv'\n",
    "\n",
    "# Processar os dados e obter os arrays por dia\n",
    "arrays_por_dia = processar_dados(file_path)\n",
    "\n",
    "# Verificar se arrays_por_dia é um dicionário\n",
    "if isinstance(arrays_por_dia, dict):\n",
    "    # Exibir os resultados\n",
    "    for dia, array in arrays_por_dia.items():\n",
    "        print(f\"Data: {dia}, Array: {array}\")\n",
    "else:\n",
    "    # Exibir a mensagem de erro\n",
    "    print(arrays_por_dia)\n",
    "\n",
    "\n"
   ]
  },
  {
   "cell_type": "code",
   "execution_count": 12,
   "metadata": {
    "colab": {
     "base_uri": "https://localhost:8080/"
    },
    "id": "b0LoCxD-SeEE",
    "outputId": "a15d49b9-1059-4a8d-ca35-fb6fe57e4794"
   },
   "outputs": [
    {
     "name": "stdout",
     "output_type": "stream",
     "text": [
      "Nomes das colunas:\n",
      "Index(['hour;bus_stoped;broken_truck;vehicle_excess;accident_victim;running_over;fire_vehicles;occurrence_freight;incident__dangerous_freight;lack_electricity;fire;flooding;manifestations;defect_trolleybuses;tree_road;semaphore_off;intermittent_emaphore;slowness_traffic_%'], dtype='object')\n",
      "\n",
      "Primeiras linhas do arquivo:\n",
      "                                      hour;bus_stoped;broken_truck;vehicle_excess;accident_victim;running_over;fire_vehicles;occurrence_freight;incident__dangerous_freight;lack_electricity;fire;flooding;manifestations;defect_trolleybuses;tree_road;semaphore_off;intermittent_emaphore;slowness_traffic_%\n",
      "1;0;0;0;0;0;0;0;0;0;0;0;0;0;0;0;0;4                                                 1.0                                                                                                                                                                                                                       \n",
      "2;0;0;0;0;0;0;0;0;0;0;0;0;0;0;0;0;6                                                 6.0                                                                                                                                                                                                                       \n",
      "3;0;0;0;0;0;0;0;0;0;0;0;0;0;0;0;0;8                                                 7.0                                                                                                                                                                                                                       \n",
      "4;0;0;0;0;0;0;0;0;0;0;0;0;0;0;0;0;9                                                 2.0                                                                                                                                                                                                                       \n",
      "5;0;0;0;0;0;0;0;0;0;0;0;0;0;0;0;0;11                                                1.0                                                                                                                                                                                                                       \n"
     ]
    }
   ],
   "source": [
    "import pandas as pd\n",
    "\n",
    "# Baixar o arquivo CSV\n",
    "!wget -q \"https://raw.githubusercontent.com/andre-marcos-perez/ebac-course-utils/develop/dataset/traffic.csv\" -O traffic.csv\n",
    "\n",
    "# Ler o arquivo CSV\n",
    "df = pd.read_csv('traffic.csv')\n",
    "\n",
    "# Exibir as primeiras linhas e os nomes das colunas\n",
    "print(\"Nomes das colunas:\")\n",
    "print(df.columns)\n",
    "\n",
    "print(\"\\nPrimeiras linhas do arquivo:\")\n",
    "print(df.head())\n"
   ]
  },
  {
   "cell_type": "markdown",
   "metadata": {
    "id": "TTh7w8rgkznY"
   },
   "source": [
    "### **1.2. Métricas**"
   ]
  },
  {
   "cell_type": "markdown",
   "metadata": {
    "id": "clBerimQs2PY"
   },
   "source": [
    "Para cada array você deve calcular as seguintes métricas:\n",
    "\n",
    " - **média**;\n",
    " - **desvio padrão**."
   ]
  },
  {
   "cell_type": "code",
   "execution_count": 14,
   "metadata": {
    "colab": {
     "base_uri": "https://localhost:8080/"
    },
    "id": "fohdVuLzkdKP",
    "outputId": "ed7f6342-0bc8-437b-b22e-15819f832638"
   },
   "outputs": [
    {
     "name": "stdout",
     "output_type": "stream",
     "text": [
      "Data: 14\n",
      "Array: [0 0 0 0 0 0 0 0 0 0 0 1 0 5 2 0 0 0 0 0 1 0 0 0 2 2 3]\n",
      "Média: 0.59\n",
      "Desvio Padrão: 1.19\n",
      "\n",
      "Data: 15\n",
      "Array: [3 0 0 0 2 4 2 1 3 0 2 0 2 3 2 2 4 7 6 3 0 1 1 5 4 6 0]\n",
      "Média: 2.33\n",
      "Desvio Padrão: 2.02\n",
      "\n",
      "Data: 16\n",
      "Array: [ 1  1  2  4  4  5  3  2  4  2  1  1  3  6  2  0  2  8  4  6  4  1  2  7\n",
      " 15  4  0]\n",
      "Média: 3.48\n",
      "Desvio Padrão: 3.05\n",
      "\n",
      "Data: 17\n",
      "Array: [ 4  1  1  0  0  0  2  3  2  7  2  1  7  3  6  4  3  2  2  3  2  5  2  0\n",
      "  1  4 15]\n",
      "Média: 3.04\n",
      "Desvio Padrão: 3.05\n",
      "\n",
      "Data: 18\n",
      "Array: [10  1  1  5  5  7  3  4  3  1  2  3  2  2  6  2  2  4  2  3  0  3  3  2\n",
      "  3  6  0]\n",
      "Média: 3.15\n",
      "Desvio Padrão: 2.19\n",
      "\n"
     ]
    }
   ],
   "source": [
    "\n",
    "import pandas as pd\n",
    "import numpy as np\n",
    "\n",
    "# Caminho para o ficheiro CSV\n",
    "file_path = 'traffic.csv'\n",
    "\n",
    "# Ler o ficheiro\n",
    "df = pd.read_csv(file_path)\n",
    "\n",
    "# Remover a primeira e última coluna\n",
    "df = df.iloc[:, 1:-1]\n",
    "\n",
    "# Obter as datas únicas\n",
    "datas = df['date'].unique()\n",
    "\n",
    "# Calcular média e desvio padrão por dia\n",
    "for data in datas:\n",
    "    dados_diarios = df[df['date'] == data]\n",
    "    somas = dados_diarios.drop('date', axis=1).sum(axis=0).to_numpy()\n",
    "    \n",
    "    if len(somas) < 27:\n",
    "        somas = np.concatenate([somas, np.zeros(27 - len(somas))])\n",
    "    elif len(somas) > 27:\n",
    "        somas = somas[:27]\n",
    "        \n",
    "    media = np.mean(somas)\n",
    "    desvio_padrao = np.std(somas)\n",
    "    \n",
    "    print(f\"Data: {data}\")\n",
    "    print(f\"Array: {somas}\")\n",
    "    print(f\"Média: {media:.2f}\")\n",
    "    print(f\"Desvio Padrão: {desvio_padrao:.2f}\\n\")\n"
   ]
  },
  {
   "cell_type": "markdown",
   "metadata": {
    "id": "xMnUokVV4Pcw"
   },
   "source": [
    "### **1.3. Interpretação**"
   ]
  },
  {
   "cell_type": "code",
   "execution_count": 15,
   "metadata": {
    "colab": {
     "base_uri": "https://localhost:8080/"
    },
    "id": "GmpKVNdWVndD",
    "outputId": "45b590d8-9d58-4467-836d-60e141881a38"
   },
   "outputs": [
    {
     "name": "stdout",
     "output_type": "stream",
     "text": [
      "O dia com a maior média de acidentes por meia hora é: 16\n",
      "Média de acidentes: 3.48\n"
     ]
    }
   ],
   "source": [
    "import numpy as np\n",
    "\n",
    "# Suponha que você já tenha um dicionário com arrays NumPy para cada dia\n",
    "arrays_por_dia = {\n",
    "    '14': np.array([0, 0, 0, 0, 0, 0, 0, 0, 0, 0, 0, 1, 0, 5, 2, 0, 0, 0, 0, 0, 1, 0, 0, 0, 2, 2, 3]),\n",
    "    '15': np.array([3, 0, 0, 0, 2, 4, 2, 1, 3, 0, 2, 0, 2, 3, 2, 2, 4, 7, 6, 3, 0, 1, 1, 5, 4, 6, 0]),\n",
    "    '16': np.array([1, 1, 2, 4, 4, 5, 3, 2, 4, 2, 1, 1, 3, 6, 2, 0, 2, 8, 4, 6, 4, 1, 2, 7, 15, 4, 0]),\n",
    "    '17': np.array([4, 1, 1, 0, 0, 0, 2, 3, 2, 7, 2, 1, 7, 3, 6, 4, 3, 2, 2, 3, 2, 5, 2, 0, 1, 4, 15]),\n",
    "    '18': np.array([10, 1, 1, 5, 5, 7, 3, 4, 3, 1, 2, 3, 2, 2, 6, 2, 2, 4, 2, 3, 0, 3, 3, 2, 3, 6, 0])\n",
    "}\n",
    "\n",
    "# Calcular a média para cada array e encontrar o dia com a maior média\n",
    "maior_media = -float('inf')\n",
    "dia_com_maior_media = None\n",
    "\n",
    "for dia, array in arrays_por_dia.items():\n",
    "    media = np.mean(array)\n",
    "    if media > maior_media:\n",
    "        maior_media = media\n",
    "        dia_com_maior_media = dia\n",
    "\n",
    "print(f\"O dia com a maior média de acidentes por meia hora é: {dia_com_maior_media}\")\n",
    "print(f\"Média de acidentes: {maior_media:.2f}\")\n"
   ]
  },
  {
   "cell_type": "markdown",
   "metadata": {
    "id": "HxAhj3O14rhZ"
   },
   "source": [
    "Baseado nos resultados da questão 1.2, responda:"
   ]
  },
  {
   "cell_type": "markdown",
   "metadata": {
    "id": "VO4jLKYq4Pc6"
   },
   "source": [
    "> Qual dia apresenta a maior média de acidentes por meia hora?"
   ]
  },
  {
   "cell_type": "markdown",
   "metadata": {
    "id": "Oj3YJnQu4byN"
   },
   "source": [
    "**Resposta:** O dia com a maior média de acidentes por meia hora é: 16"
   ]
  },
  {
   "cell_type": "markdown",
   "metadata": {
    "id": "3awOYi0G4fIP"
   },
   "source": [
    "> Qual dia apresenta a menor variação de acidentes por meia hora?"
   ]
  },
  {
   "cell_type": "markdown",
   "metadata": {
    "id": "umQMblRh4fIP"
   },
   "source": [
    "**Resposta:** O dia com a menor variação de acidentes por meia hora é: 14"
   ]
  },
  {
   "cell_type": "code",
   "execution_count": 16,
   "metadata": {
    "colab": {
     "base_uri": "https://localhost:8080/"
    },
    "id": "7pe7vG_MWZd_",
    "outputId": "5c7f1505-b8d9-47ec-8d97-0a8108179690"
   },
   "outputs": [
    {
     "name": "stdout",
     "output_type": "stream",
     "text": [
      "O dia com a menor variação de acidentes por meia hora é: 14\n",
      "Variação (Desvio Padrão): 1.19\n"
     ]
    }
   ],
   "source": [
    "import numpy as np\n",
    "\n",
    "# Suponha que você já tenha um dicionário com arrays NumPy para cada dia\n",
    "arrays_por_dia = {\n",
    "    '14': np.array([0, 0, 0, 0, 0, 0, 0, 0, 0, 0, 0, 1, 0, 5, 2, 0, 0, 0, 0, 0, 1, 0, 0, 0, 2, 2, 3]),\n",
    "    '15': np.array([3, 0, 0, 0, 2, 4, 2, 1, 3, 0, 2, 0, 2, 3, 2, 2, 4, 7, 6, 3, 0, 1, 1, 5, 4, 6, 0]),\n",
    "    '16': np.array([1, 1, 2, 4, 4, 5, 3, 2, 4, 2, 1, 1, 3, 6, 2, 0, 2, 8, 4, 6, 4, 1, 2, 7, 15, 4, 0]),\n",
    "    '17': np.array([4, 1, 1, 0, 0, 0, 2, 3, 2, 7, 2, 1, 7, 3, 6, 4, 3, 2, 2, 3, 2, 5, 2, 0, 1, 4, 15]),\n",
    "    '18': np.array([10, 1, 1, 5, 5, 7, 3, 4, 3, 1, 2, 3, 2, 2, 6, 2, 2, 4, 2, 3, 0, 3, 3, 2, 3, 6, 0])\n",
    "}\n",
    "\n",
    "# Calcular o desvio padrão para cada array e encontrar o dia com o menor desvio padrão\n",
    "menor_variacao = float('inf')\n",
    "dia_com_menor_variacao = None\n",
    "\n",
    "for dia, array in arrays_por_dia.items():\n",
    "    desvio_padrao = np.std(array)\n",
    "    if desvio_padrao < menor_variacao:\n",
    "        menor_variacao = desvio_padrao\n",
    "        dia_com_menor_variacao = dia\n",
    "\n",
    "print(f\"O dia com a menor variação de acidentes por meia hora é: {dia_com_menor_variacao}\")\n",
    "print(f\"Variação (Desvio Padrão): {menor_variacao:.2f}\")"
   ]
  },
  {
   "cell_type": "markdown",
   "metadata": {
    "id": "waxn4B2UDHyl"
   },
   "source": [
    "---"
   ]
  }
 ],
 "metadata": {
  "colab": {
   "provenance": []
  },
  "kernelspec": {
   "display_name": "Python 3",
   "name": "python3"
  }
 },
 "nbformat": 4,
 "nbformat_minor": 0
}
