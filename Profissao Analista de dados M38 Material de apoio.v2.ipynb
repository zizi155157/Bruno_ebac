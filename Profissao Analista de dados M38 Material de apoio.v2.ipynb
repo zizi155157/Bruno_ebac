{
  "cells": [
    {
      "cell_type": "markdown",
      "metadata": {
        "id": "KJqp9AANOCtf"
      },
      "source": [
        "<img src=\"https://raw.githubusercontent.com/andre-marcos-perez/ebac-course-utils/main/media/logo/newebac_logo_black_half.png\" alt=\"ebac-logo\">\n",
        "\n",
        "---\n",
        "\n",
        "# **Módulo** | Computação em Nuvem II\n",
        "Caderno de **Aula**<br> \n",
        "Professor [André Perez](https://www.linkedin.com/in/andremarcosperez/)\n",
        "\n",
        "---"
      ]
    },
    {
      "cell_type": "markdown",
      "metadata": {
        "id": "d9jDtUbDOE1-"
      },
      "source": [
        "# **Tópicos**\n",
        "\n",
        "<ol type=\"1\">\n",
        "  <li>AWS Lambda;</li>\n",
        "  <li>AWS Step Functions;</li>\n",
        "  <li>AWS EventBridge.</li>\n",
        "</ol>"
      ]
    },
    {
      "cell_type": "markdown",
      "metadata": {
        "id": "SmoHgt-lwkpD"
      },
      "source": [
        "---"
      ]
    },
    {
      "cell_type": "markdown",
      "metadata": {
        "id": "GABI6OW8OfQ2"
      },
      "source": [
        "# **Aulas**"
      ]
    },
    {
      "cell_type": "markdown",
      "metadata": {
        "id": "-Rig-cljwJdi"
      },
      "source": [
        "## 1\\. AWS Lambda"
      ]
    },
    {
      "cell_type": "markdown",
      "metadata": {
        "id": "JUonSt7kxZyj"
      },
      "source": [
        "O AWS [Lambda](https://aws.amazon.com/pt/lambda/) é um serviço de computação orientado a evento e sem servidor. Permite a execução de uma função em diversas linguagens de programação que utilize entre 128 MB e 10 GB de memória RAM e que dure, no máximo, 15 minutos. É conhecido com FaaS (*function as a service*) ou função como serviço."
      ]
    },
    {
      "cell_type": "markdown",
      "metadata": {
        "id": "xsu1BMt54Y-1"
      },
      "source": [
        "> O nome do serviço é inspirado em funções lambda do paradigma funcional."
      ]
    },
    {
      "cell_type": "markdown",
      "metadata": {
        "id": "9YhdREnYxZyj"
      },
      "source": [
        "### **1.1. Funcionamento** "
      ]
    },
    {
      "cell_type": "markdown",
      "metadata": {
        "id": "VHNT6j-IxZyk"
      },
      "source": [
        " 1. Ao criar uma função, o *runtime* (linguagem de programação + versão) é escolhida;\n",
        " 1. A função sempre recebe dois parametros: `event` (*input*) e `context` (execução);\n",
        " 1. Código refatorado precisa ser implantado (*deploy*);\n",
        " 1. Código pode ser testado;\n",
        " 1. Recursos (memória e tempo de execução) podem ser configurados;\n",
        " 1. Funções precisam de permissão para acessar outros serviços (*buckets*, tabelas, etc.) via AWS [IAM](https://aws.amazon.com/pt/iam/);\n",
        " 1. Execution logs can be found on AWS [CloudWatch](https://aws.amazon.com/pt/cloudwatch/)."
      ]
    },
    {
      "cell_type": "markdown",
      "metadata": {
        "id": "PnJI1bszxZyk"
      },
      "source": [
        "### **1.2. Preço** "
      ]
    },
    {
      "cell_type": "markdown",
      "metadata": {
        "id": "8OGjIWy9xZyk"
      },
      "source": [
        "O AWS [Lambda](https://aws.amazon.com/pt/lambda/) cobra por quantidade de execução, tempo de execução e memória alocada. Sobre a quantidade de execução, o preço é de 0,20 USD por milhão de execuções (1,11 BRL). Já sobre tempo de execução e memória alocada, o preço é de 0,0000166667 USD por GB por segundo (0.00009 BRL). Você sempre deve consultar o preço na página *web* do serviço ([link](https://aws.amazon.com/pt/lambda/pricing/))."
      ]
    },
    {
      "cell_type": "markdown",
      "metadata": {
        "id": "V3boVORDZh78"
      },
      "source": [
        "### **1.3. Atividade** "
      ]
    },
    {
      "cell_type": "markdown",
      "metadata": {
        "id": "e-9a8ZSyGQ7V"
      },
      "source": [
        "Extrair dados da site da [BCB](https://api.bcb.gov.br/) através de uma [API](https://api.bcb.gov.br/dados/serie/bcdata.sgs.4392/dados?formato=json):"
      ]
    },
    {
      "cell_type": "code",
      "execution_count": 1,
      "metadata": {
        "colab": {
          "base_uri": "https://localhost:8080/"
        },
        "id": "tngjJyIhEfpn",
        "outputId": "3e939999-ea33-4cc7-ec7e-c61e30bffe58"
      },
      "outputs": [
        {
          "name": "stdout",
          "output_type": "stream",
          "text": [
            "taxa: 18.24, dataTaxa: 1986-03-01\n",
            "CSV file saved successfully.\n"
          ]
        }
      ],
      "source": [
        "import json\n",
        "from datetime import datetime\n",
        "import requests\n",
        "\n",
        "# -- setup\n",
        "URL = 'https://api.bcb.gov.br/dados/serie/bcdata.sgs.4392/dados?formato=json'\n",
        "\n",
        "# -- extract\n",
        "try:\n",
        "    response = requests.get(URL)\n",
        "    response.raise_for_status()\n",
        "except requests.exceptions.RequestException as exc:\n",
        "    raise SystemExit(exc)\n",
        "else:\n",
        "    data = json.loads(response.text)\n",
        "\n",
        "# -- transform\n",
        "transformed_data = []\n",
        "\n",
        "for record in data:\n",
        "    transformed_record = {\n",
        "        'taxa': record['valor'].replace(',', '.'),\n",
        "        'dataTaxa': datetime.strptime(record['data'], '%d/%m/%Y').strftime('%Y-%m-%d'),\n",
        "    }\n",
        "    transformed_data.append(transformed_record)\n",
        "\n",
        "# Convert data to CSV format\n",
        "csv_data = '\\n'.join([','.join([record['taxa'], record['dataTaxa']]) for record in transformed_data])\n",
        "\n",
        "example_record = transformed_data[0] \n",
        "print(f\"taxa: {example_record['taxa']}, dataTaxa: {example_record['dataTaxa']}\")\n",
        "\n",
        "with open('transformed_data.csv', 'w') as f:\n",
        "    f.write('taxa,dataTaxa\\n') \n",
        "    f.write(csv_data)\n",
        "\n",
        "print('CSV file saved successfully.')"
      ]
    },
    {
      "cell_type": "markdown",
      "metadata": {
        "id": "rfP19kiLILkK"
      },
      "source": [
        "Vamos dividir essa etapa em duas: extração e transformação. Logo, temos que:"
      ]
    },
    {
      "cell_type": "markdown",
      "metadata": {
        "id": "VNN_kXeFZkwA"
      },
      "source": [
        "- Criar um *bucket* no AWS [S3](https://aws.amazon.com/pt/s3/) para salvar o dado original (`bronze`);\n",
        "- Criar uma função AWS [Lambda](https://aws.amazon.com/pt/lambda/) para extrair o dado original;\n",
        "- Criar um *bucket* no AWS [S3](https://aws.amazon.com/pt/s3/) para salvar o dado transformado  (`silver`);\n",
        "- Criar uma função AWS [Lambda](https://aws.amazon.com/pt/lambda/) para transformar o dado original;\n",
        "- Criar uma função AWS [Lambda](https://aws.amazon.com/pt/lambda/) para criar uma tabela no AWS [Athena](https://aws.amazon.com/pt/athena) apontando para o *bucket* do dado transformado.\n",
        "\n"
      ]
    },
    {
      "cell_type": "markdown",
      "metadata": {
        "id": "x2gNVGLzdh99"
      },
      "source": [
        "Vamos também usar o pacote Python [boto3](https://pypi.org/project/boto3/), o SDK (*software development kit*) da AWS para interação com os serviços da plataforma. A documentação pode ser encontrada neste [link](https://boto3.amazonaws.com/v1/documentation/api/latest/index.html). Exemplo:\n",
        "\n",
        "```python\n",
        "import boto3\n",
        "\n",
        "client = boto3.client('s3')\n",
        "client.upload_file(Filename='<nome-do-arquivo>', Bucket='<nome-do-bucket>', Key='<nome-do-objeto>')\n",
        "\n",
        "client = boto3.client('athena')\n",
        "client.start_query_execution(\n",
        "  QueryString='SELECT * FROM <nome-da-tabela> LIMIT 10', \n",
        "  ResultConfiguration={'OutputLocation': 's3://<nome-do-bucket-de-resultados>/'}\n",
        ")\n",
        "```"
      ]
    },
    {
      "cell_type": "markdown",
      "metadata": {
        "id": "vpZai4pzGFUu"
      },
      "source": [
        "AWS [Lambda](https://aws.amazon.com/pt/lambda/) para *bucket* **bronze**:"
      ]
    },
    {
      "cell_type": "code",
      "execution_count": null,
      "metadata": {
        "id": "4E-cx_3k6nIQ"
      },
      "outputs": [],
      "source": [
        "import json\n",
        "import logging\n",
        "from datetime import datetime\n",
        "\n",
        "import boto3\n",
        "import urllib3\n",
        "from botocore.exceptions import ClientError\n",
        "\n",
        "\n",
        "def lambda_handler(event, context) -> bool:\n",
        "\n",
        "  # -- setup\n",
        "\n",
        "  URL = 'https://api.bcb.gov.br/dados/serie/bcdata.sgs.4392/dados?formato=json'\n",
        "  BRONZE_BUCKET = 'modulo-39-ebac-bronze'\n",
        "\n",
        "  client = boto3.client('s3')\n",
        "\n",
        "  date = datetime.now().strftime('%Y-%m-%d')\n",
        "  filename_json = f'stock-exchange-{date}.json'\n",
        "\n",
        "  # -- extract\n",
        "\n",
        "  try:\n",
        "    http = urllib3.PoolManager()\n",
        "    response = http.request(url=URL, method='get')\n",
        "  except Exception as exc:\n",
        "    raise exc\n",
        "  else:\n",
        "    data = json.loads(response.data.decode())\n",
        "    logging.info(msg=data)\n",
        "\n",
        "  # -- transform\n",
        "\n",
        "  ...\n",
        "\n",
        "  # -- load\n",
        "\n",
        "  try:\n",
        "      with open(f'/tmp/{filename_json}', mode='w', encoding='utf8') as fp:\n",
        "          json.dump(data, fp)\n",
        "      client.upload_file(Filename=f'/tmp/{filename_json}', Bucket=BRONZE_BUCKET, Key=filename_json)\n",
        "  except ClientError as exc:\n",
        "      raise exc\n",
        "\n",
        "  return json.dumps(dict(status=True))"
      ]
    },
    {
      "cell_type": "markdown",
      "metadata": {
        "id": "_O-R-u8FGNAm"
      },
      "source": [
        "AWS [Lambda](https://aws.amazon.com/pt/lambda/) para *bucket* **silver**:"
      ]
    },
    {
      "cell_type": "code",
      "execution_count": null,
      "metadata": {
        "id": "dDv9vGTO6pLw"
      },
      "outputs": [],
      "source": [
        "import json\n",
        "from datetime import datetime\n",
        "\n",
        "import boto3\n",
        "from botocore.exceptions import ClientError\n",
        "\n",
        "\n",
        "def lambda_handler(event, context) -> bool:\n",
        "    # -- setup\n",
        "    BRONZE_BUCKET = 'modulo-39-ebac-bronze'\n",
        "    SILVER_BUCKET = 'modulo-39-ebac-silver'\n",
        "    \n",
        "    client = boto3.client('s3')\n",
        "    \n",
        "    date = datetime.now().strftime('%Y-%m-%d')\n",
        "    filename_csv = f'stock-exchange-{date}.csv'\n",
        "    filename_json = f'stock-exchange-{date}.json'\n",
        "    \n",
        "    # -- extract\n",
        "    client.download_file(BRONZE_BUCKET, filename_json, f'/tmp/{filename_json}')\n",
        "    \n",
        "    with open(f\"/tmp/{filename_json}\", mode='r', encoding='utf8') as fp:\n",
        "        data = json.load(fp)\n",
        "    \n",
        "    # -- transform\n",
        "    transformed_data = []\n",
        "    \n",
        "    for record in data:\n",
        "        transformed_record = {\n",
        "            'taxa': record['valor'].replace(',', '.'),\n",
        "            'dataTaxa': datetime.strptime(record['data'], '%d/%m/%Y').strftime('%Y-%m-%d'),\n",
        "        }\n",
        "        transformed_data.append(transformed_record)\n",
        "    \n",
        "    # -- load\n",
        "    try:\n",
        "        with open(f'/tmp/{filename_csv}', mode='w', encoding='utf8') as fp:\n",
        "            fp.write('taxa,dataTaxa\\n')\n",
        "            for record in transformed_data:\n",
        "                fp.write(f\"{record['taxa']},{record['dataTaxa']}\\n\")\n",
        "        client.upload_file(Filename=f'/tmp/{filename_csv}', Bucket=SILVER_BUCKET, Key=f'data_referencia={date}/{filename_csv}')\n",
        "    except ClientError as exc:\n",
        "        raise exc\n",
        "    \n",
        "    return json.dumps(dict(status=True))\n"
      ]
    },
    {
      "cell_type": "markdown",
      "metadata": {
        "id": "6ZVDnLFufCGj"
      },
      "source": [
        "AWS [Lambda](https://aws.amazon.com/pt/lambda/) para tabela:"
      ]
    },
    {
      "cell_type": "code",
      "execution_count": null,
      "metadata": {
        "id": "Nx40SzzUfP9B"
      },
      "outputs": [],
      "source": [
        "import json\n",
        "from datetime import datetime\n",
        "\n",
        "import boto3\n",
        "from botocore.exceptions import ClientError\n",
        "\n",
        "\n",
        "def lambda_handler(event, context) -> bool:\n",
        "\n",
        "  # -- setup\n",
        "\n",
        "  SILVER_BUCKET = 'modulo-39-ebac-silver'\n",
        "\n",
        "  query = f\"\"\"\n",
        "  CREATE EXTERNAL TABLE IF NOT EXISTS cdi (\n",
        "    taxa double, \n",
        "    dataTaxa string\n",
        "  )\n",
        "  PARTITIONED BY (\n",
        "    data_referencia string\n",
        "  )\n",
        "  ROW FORMAT SERDE 'org.apache.hadoop.hive.serde2.OpenCSVSerde' \n",
        "  WITH SERDEPROPERTIES ('separatorChar'=',') \n",
        "  LOCATION 's3://{SILVER_BUCKET}/'\n",
        "  \"\"\"\n",
        "\n",
        "  client = boto3.client('athena')\n",
        "\n",
        "  # -- create\n",
        "\n",
        "  try:\n",
        "    client.start_query_execution(\n",
        "      QueryString=query, \n",
        "      ResultConfiguration={'OutputLocation': 's3://modulo-38-ebac-athena-results/'}\n",
        "    )\n",
        "  except ClientError as exc:\n",
        "    raise exc\n",
        "\n",
        "  # -- update\n",
        "\n",
        "  try:\n",
        "    client.start_query_execution(\n",
        "      QueryString='MSCK REPAIR TABLE cdi', \n",
        "      ResultConfiguration={'OutputLocation': 's3://modulo-38-ebac-athena-results/'}\n",
        "    )\n",
        "  except ClientError as exc:\n",
        "    raise exc\n",
        "\n",
        "  return json.dumps(dict(status=True))"
      ]
    },
    {
      "cell_type": "markdown",
      "metadata": {
        "id": "EvJTE2FpaGeU"
      },
      "source": [
        "## 2\\. AWS Step Functions"
      ]
    },
    {
      "cell_type": "markdown",
      "metadata": {
        "id": "ISYXZbomlb1x"
      },
      "source": [
        "O AWS [Step Functions](https://aws.amazon.com/pt/step-functions/) é um serviço de orquestração de serviços sem servidor. No contexto de dados, pode atuar como orquestrador de *pipeline* de dados. O serviço é inspirado no famoso projeto *open source* [Apache Airflow](https://airflow.apache.org).\n",
        "\n"
      ]
    },
    {
      "cell_type": "markdown",
      "metadata": {
        "id": "pnxYnr6flb1y"
      },
      "source": [
        "### **2.1. Funcionamento** "
      ]
    },
    {
      "cell_type": "markdown",
      "metadata": {
        "id": "NY8c3fEWlb1y"
      },
      "source": [
        "1. Uma *task* ou tarefa é uma unidade de processamento; \n",
        "2. Uma *state machine* é a definição de um fluxo de tarefas;\n",
        "3. Tasks e state machine são definidas com a linguagem JSON."
      ]
    },
    {
      "cell_type": "markdown",
      "metadata": {
        "id": "h_7ULt6Wlb1z"
      },
      "source": [
        "### **2.2. Preço** "
      ]
    },
    {
      "cell_type": "markdown",
      "metadata": {
        "id": "J54rLu4Mlb10"
      },
      "source": [
        "O AWS [Step Functions](https://aws.amazon.com/pt/step-functions/) cobra por transição de estado. O preço é de 0,0375 USD por 1.000 transições de estado (0,21 BRL). Você sempre deve consultar o preço na página *web* do serviço ([link](https://aws.amazon.com/pt/step-functions/pricing/))."
      ]
    },
    {
      "cell_type": "markdown",
      "metadata": {
        "id": "oA6uhSthxAfi"
      },
      "source": [
        "### **2.3. Atividade** "
      ]
    },
    {
      "cell_type": "markdown",
      "metadata": {
        "id": "vBIT5n-3xAfj"
      },
      "source": [
        " - Criar uma `state machine` com três *tasks*, uma com cada função lambda criada na item 1.3."
      ]
    },
    {
      "cell_type": "markdown",
      "metadata": {
        "id": "oVejInuPakz5"
      },
      "source": [
        "## 3\\. AWS EventBridge"
      ]
    },
    {
      "cell_type": "markdown",
      "metadata": {
        "id": "CZbuPphXakz7"
      },
      "source": [
        "O AWS [EventBridge](https://aws.amazon.com/pt/eventbridge/) é um serviço de barramento de eventos sem servidor. Ele permite que multiplos serviços da AWS se comuniquem de maneira assíncrona através da publicação/consumo de eventos.\n"
      ]
    },
    {
      "cell_type": "markdown",
      "metadata": {
        "id": "SadRMFFVjAY1"
      },
      "source": [
        "### **3.1. Funcionamento** "
      ]
    },
    {
      "cell_type": "markdown",
      "metadata": {
        "id": "N2j-pN5VjAY3"
      },
      "source": [
        "1. Uma *rule* ou regra \"escuta\" eventos e os roteia para serviços da AWS;\n",
        "2. Eventos podem ser temporais ou publicações de outros serviços da AWS;\n",
        "2. Eventos também podem se publicados serviços externos (Shopfy, Zendesk, etc.)."
      ]
    },
    {
      "cell_type": "markdown",
      "metadata": {
        "id": "dYWYEfZajAiE"
      },
      "source": [
        "### **3.2. Preço** "
      ]
    },
    {
      "cell_type": "markdown",
      "metadata": {
        "id": "ESQ6yMH0jAiE"
      },
      "source": [
        "O AWS [EventBridge](https://aws.amazon.com/pt/eventbridge/) é gratuito para publicação/consumo de eventos entre serviços da AWS. Você sempre deve consultar o preço na página web do serviço ([link](https://aws.amazon.com/pt/eventbridge/pricing/))."
      ]
    },
    {
      "cell_type": "markdown",
      "metadata": {
        "id": "-BYWYKk1xMWm"
      },
      "source": [
        "### **3.3. Atividade** "
      ]
    },
    {
      "cell_type": "markdown",
      "metadata": {
        "id": "UfARE2g0xMWn"
      },
      "source": [
        " - Criar um evento que inicie a *state machine* do item 2.3."
      ]
    }
  ],
  "metadata": {
    "colab": {
      "collapsed_sections": [
        "JG1HL69-j0lH",
        "s_Dj-BgThLg5",
        "jeEzLmuRhDQy",
        "PoTeRwlihDQ0",
        "QpMlxqRyhDQ1",
        "ov7Fg-mWhDQ1",
        "DvHPNAoPgdiG",
        "3SMp5GwjglJm",
        "e3ieQfXTgqd3",
        "L0pKWNr5fm9z",
        "DMhCpOU_gupo",
        "l3h0WP2Eg2ht",
        "rWG4Vk6XaWtf",
        "wkibgd8rB8y3",
        "IjPaJtnYE0MI",
        "2lpj1rszc--m",
        "HnWg_mhLd5gC",
        "RhqmXiHQo-is",
        "SvT9xrajLL7J",
        "91eSyA2cLLqv"
      ],
      "name": "modulo_39_aula.ipynb",
      "provenance": [],
      "toc_visible": true
    },
    "kernelspec": {
      "display_name": "Python 3",
      "name": "python3"
    },
    "language_info": {
      "codemirror_mode": {
        "name": "ipython",
        "version": 3
      },
      "file_extension": ".py",
      "mimetype": "text/x-python",
      "name": "python",
      "nbconvert_exporter": "python",
      "pygments_lexer": "ipython3",
      "version": "3.11.3"
    }
  },
  "nbformat": 4,
  "nbformat_minor": 0
}
